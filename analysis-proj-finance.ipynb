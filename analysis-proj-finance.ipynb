{
 "cells": [
  {
   "cell_type": "markdown",
   "id": "8a10b522-042a-452d-b85b-31ef82d25c67",
   "metadata": {},
   "source": [
    "# SEA Petrochemical Industry\n",
    "\n",
    "Here, we analyze petrochemical project financing in Southeast Asia, based on data pulled from LSEG Refinitiv."
   ]
  },
  {
   "cell_type": "code",
   "execution_count": 1,
   "id": "d5aa7789-7847-4737-9365-7f5930cec63a",
   "metadata": {},
   "outputs": [],
   "source": [
    "# import libraries\n",
    "import pandas as pd\n",
    "import os"
   ]
  },
  {
   "cell_type": "code",
   "execution_count": 2,
   "id": "10d2a7b3-cda1-41c7-bb95-2c08b6cbdcdd",
   "metadata": {},
   "outputs": [],
   "source": [
    "# read files\n",
    "\n",
    "pf_projects_df = pd.read_excel(\"wf_data.xlsx\", sheet_name=\"pf_projects\")\n",
    "pf_developers_df = pd.read_excel(\"wf_data.xlsx\", sheet_name=\"pf_developers\")"
   ]
  },
  {
   "cell_type": "code",
   "execution_count": 3,
   "id": "682ec04e-ea3a-4297-8935-988e3a6d7d5d",
   "metadata": {},
   "outputs": [],
   "source": [
    "# setting up folder for data\n",
    "\n",
    "os.makedirs(\"pf_data\", exist_ok=True)"
   ]
  },
  {
   "cell_type": "markdown",
   "id": "35646164-e803-428f-b049-8f3295a4f111",
   "metadata": {},
   "source": [
    "## Project financing, pt. 1: Country of the project"
   ]
  },
  {
   "cell_type": "code",
   "execution_count": 4,
   "id": "7161cab5-3219-40f7-a292-89148094905c",
   "metadata": {},
   "outputs": [],
   "source": [
    "# pf_projects_df.dtypes"
   ]
  },
  {
   "cell_type": "code",
   "execution_count": 5,
   "id": "c0166a8f-d8f9-4254-8b66-96561193af67",
   "metadata": {},
   "outputs": [],
   "source": [
    "# automates breakdown of projects\n",
    "\n",
    "def proj_summary(\n",
    "    df,\n",
    "    project_name_col=\"project_name\", \n",
    "    project_id_col=\"project_id\", \n",
    "    country_col=\"project_country\", \n",
    "    total_cost_col=\"project_cost\", \n",
    "    status_col=\"project_status\"\n",
    "    ):\n",
    "    \n",
    "    \"\"\"\n",
    "    This function counts the total number of projects and cancelled projects.\n",
    "    It counts the projects by country and sums estimated total costs.\n",
    "    \n",
    "    Parameters:\n",
    "    df (pandas.DataFrame): DataFrame containing project information\n",
    "    project_name_col (str): column name for project name\n",
    "    project_id_col (str): column name for project ID\n",
    "    country_col (str): column name for project country\n",
    "    total_cost_col (str): column name for total project cost\n",
    "    status_col (str): column name for project status\n",
    "\n",
    "    Returns:\n",
    "    df[0] = cancelled_projects: DataFrame of cancelled projects\n",
    "    df[1] = per_country_analysis: DataFrame of number of projects, total cost, and average project cost by country\n",
    "    \"\"\"\n",
    "    \n",
    "    # counts unique project identifiers\n",
    "    # to get the total number of projects\n",
    "    total_projects = df[project_id_col].nunique()\n",
    "    print(f\"The total number of projects are: {total_projects}\")\n",
    "\n",
    "    # counts cancelled projects\n",
    "    cancelled_projects = df[df[status_col].str.lower().isin([\"cancel\", \"canceled\", \"cancelled\"])]\n",
    "    print(f\"Cancellations: {len(cancelled_projects)} of the {total_projects} total projects were cancelled\")\n",
    "    \n",
    "    # counts projects and sums costs by country\n",
    "    per_country_analysis = df.groupby(country_col).agg(\n",
    "        number_of_projects = (project_id_col, \"count\"),  # count projects\n",
    "        total_cost = (total_cost_col, \"sum\")  # sum of total cost\n",
    "    ).assign(\n",
    "        average_cost_per_project = lambda x: x[\"total_cost\"] / x[\"number_of_projects\"]\n",
    "    ).sort_values(by=\"number_of_projects\", ascending=False)\n",
    "\n",
    "    print(\"Per country breakdown:\")\n",
    "    print(per_country_analysis)\n",
    "    return cancelled_projects, per_country_analysis"
   ]
  },
  {
   "cell_type": "code",
   "execution_count": 6,
   "id": "9aa3ef74-d7b9-4762-beaf-adb1de95b645",
   "metadata": {},
   "outputs": [
    {
     "name": "stdout",
     "output_type": "stream",
     "text": [
      "The total number of projects are: 69\n",
      "Cancellations: 2 of the 69 total projects were cancelled\n",
      "Per country breakdown:\n",
      "                 number_of_projects    total_cost  average_cost_per_project\n",
      "project_country                                                            \n",
      "Indonesia                        28  38937.350000               1390.619643\n",
      "Malaysia                         13   3370.051886                259.234760\n",
      "Singapore                        10    227.810000                 22.781000\n",
      "Thailand                          6  17918.030000               2986.338333\n",
      "Vietnam                           4  23330.880000               5832.720000\n",
      "Philippines                       3   1190.480000                396.826667\n",
      "Cambodia                          2     25.870000                 12.935000\n",
      "Myanmar                           2   6000.000000               3000.000000\n",
      "Laos                              1      0.000000                  0.000000\n"
     ]
    }
   ],
   "source": [
    "pf_result_df = proj_summary(pf_projects_df,\n",
    "                      project_name_col='project_name', \n",
    "                      project_id_col='sdc_deal_number_1', \n",
    "                      country_col='project_country', \n",
    "                      total_cost_col='total_cost_usd', \n",
    "                      status_col='project_status')"
   ]
  },
  {
   "cell_type": "code",
   "execution_count": 7,
   "id": "b7e226b3-87b6-43e2-9556-20d4c74d47b5",
   "metadata": {},
   "outputs": [],
   "source": [
    "# export to csv\n",
    "pf_result_df[1].to_csv(\"pf_data/pf_count.csv\", encoding=\"UTF-8\")"
   ]
  },
  {
   "cell_type": "markdown",
   "id": "8721e6e3-ce3b-4b1d-82e5-c69d9ce04f18",
   "metadata": {},
   "source": [
    "### Counting projects by identified subsector"
   ]
  },
  {
   "cell_type": "code",
   "execution_count": 8,
   "id": "1938299f-96fe-446b-88bb-e7b06fcaf753",
   "metadata": {},
   "outputs": [
    {
     "name": "stdout",
     "output_type": "stream",
     "text": [
      "Upstream projects: 2\n",
      "Midstream projects: 22\n",
      "Downstream projects: 40\n",
      "Mixed projects: 5\n"
     ]
    }
   ],
   "source": [
    "# make everything lowercase for ease of string search\n",
    "pf_projects_df['operations_type'] = pf_projects_df['operations_type'].str.lower()\n",
    "\n",
    "# count occurences\n",
    "pf_ops_counts = pf_projects_df['operations_type'].value_counts()\n",
    "\n",
    "# count per type\n",
    "pf_upstream = pf_ops_counts.get(\"upstream\")\n",
    "pf_midstream = pf_ops_counts.get(\"midstream\")\n",
    "pf_downstream = pf_ops_counts.get(\"downstream\")\n",
    "pf_mixed = pf_projects_df[pf_projects_df[\"operations_type\"].str.contains(\"/\")].shape[0]\n",
    "\n",
    "print(\"Upstream projects:\", pf_upstream)\n",
    "print(\"Midstream projects:\", pf_midstream)\n",
    "print(\"Downstream projects:\", pf_downstream)\n",
    "print(\"Mixed projects:\", pf_mixed)"
   ]
  },
  {
   "cell_type": "markdown",
   "id": "61fa13ed-6858-4981-a9fa-47ad388c0307",
   "metadata": {},
   "source": [
    "## Project financing, pt. 2: Country of the developer"
   ]
  },
  {
   "cell_type": "code",
   "execution_count": 9,
   "id": "91997807-467c-4ad7-964d-89ee66f600e1",
   "metadata": {},
   "outputs": [],
   "source": [
    "# pf_developers_df.dtypes"
   ]
  },
  {
   "cell_type": "code",
   "execution_count": 10,
   "id": "714f145c-fb67-46d1-b2e9-c0c0076a4ce4",
   "metadata": {},
   "outputs": [],
   "source": [
    "# automates breakdown of countries / state-owned\n",
    "\n",
    "def proj_dev_summary(\n",
    "    df,\n",
    "    project_name_col=\"project_name\", \n",
    "    project_id_col=\"project_id\", \n",
    "    country_col=\"developer_parent_country\",\n",
    "    developer_parent_col=\"developer_parent\",\n",
    "    developer_name_col=\"developer_name\"\n",
    "    ):\n",
    "    \n",
    "    \"\"\"\n",
    "    This function filters only state-owned developers and counts the projects by country.\n",
    "    \n",
    "    Parameters:\n",
    "    df (pandas.DataFrame): DataFrame containing project information\n",
    "    project_name_col (str): column name for project name\n",
    "    project_id_col (str): column name for project ID\n",
    "    country_col (str): column name for project country\n",
    "    developer_parent_col (str): column name for the parent of the developer, will show whether state-owned or otherwise\n",
    "    developer_name_col (str): column name for developer name\n",
    "\n",
    "    Returns:\n",
    "    df[0] = state_owned_df: DataFrame of state-owned project developers\n",
    "    df[1] = state_owned_analysis: DataFrame of number of projects per parent company of developer and by country\n",
    "    \"\"\"\n",
    "\n",
    "    # filters state-owned developers\n",
    "    state_owned_df = df[df[developer_parent_col].str.contains(\"state\", case=False, na=False)]\n",
    "\n",
    "    # groups by country and developer\n",
    "    state_owned_analysis = state_owned_df.groupby([country_col, developer_parent_col]).size().reset_index(name='project_count')\n",
    "    return state_owned_df, state_owned_analysis\n"
   ]
  },
  {
   "cell_type": "code",
   "execution_count": 11,
   "id": "fa4b1d8f-1b32-4b16-9b1e-3d07e8be463b",
   "metadata": {},
   "outputs": [],
   "source": [
    "pf_state_owned = proj_dev_summary(\n",
    "    pf_developers_df,\n",
    "    project_name_col=\"project_name\", \n",
    "    project_id_col=\"sdc_deal_number_1\", \n",
    "    country_col=\"developer_parent_country\",\n",
    "    developer_parent_col=\"developer_parent\",\n",
    "    developer_name_col=\"developer\"\n",
    ")\n",
    "\n",
    "pf_state_df = pf_state_owned[1]\n",
    "pf_state_df[\"developer_parent\"] = pf_state_df[\"developer_parent\"].str.replace(\"State-owned [\", \"\").str.replace(\"]\", \"\")\n",
    "# pf_state_df = pd.DataFrame(pf_state_df)"
   ]
  },
  {
   "cell_type": "code",
   "execution_count": 12,
   "id": "0b43d1ec-a157-4dd9-a8c9-89fb4ba754db",
   "metadata": {},
   "outputs": [],
   "source": [
    "# export to csv\n",
    "pf_state_df.to_csv(\"pf_data/pf_devs.csv\", encoding=\"UTF-8\", index=False)"
   ]
  },
  {
   "cell_type": "code",
   "execution_count": 13,
   "id": "2e5ffbe2-1183-4efb-ba16-0df3de1497df",
   "metadata": {},
   "outputs": [
    {
     "name": "stdout",
     "output_type": "stream",
     "text": [
      "The following shows countries with the most number of petrochemical projects. Values show the nunber of projects per country of the parent developer.\n",
      "developer_parent_country\n",
      "Indonesia               21\n",
      "Malaysia                 6\n",
      "Singapore                6\n",
      "Thailand                 4\n",
      "South Korea              2\n",
      "Vietnam                  2\n",
      "China                    1\n",
      "Philippines              1\n",
      "Saudi Arabia             1\n",
      "Taiwan                   1\n",
      "United Arab Emirates     1\n",
      "Name: project_count, dtype: int64\n"
     ]
    }
   ],
   "source": [
    "# counting per country\n",
    "pf_country_proj_count = pf_state_df.groupby(\"developer_parent_country\")[\"project_count\"].sum().sort_values(ascending=False)\n",
    "\n",
    "print(\"The following shows countries with the most number of petrochemical projects. Values show the nunber of projects per country of the parent developer.\")\n",
    "print(pf_country_proj_count)"
   ]
  },
  {
   "cell_type": "code",
   "execution_count": 14,
   "id": "00e5de44-dfdf-448f-8944-9f8b7c28616e",
   "metadata": {},
   "outputs": [
    {
     "name": "stdout",
     "output_type": "stream",
     "text": [
      "The following shows countries with most developers supporting or financing petrochemical projects in Southeast Asia. Values show the number of developers whose parent companies are headquartered in these countries.\n",
      "developer_parent_country\n",
      "Singapore               4\n",
      "Indonesia               3\n",
      "Thailand                3\n",
      "Malaysia                2\n",
      "China                   1\n",
      "Philippines             1\n",
      "Saudi Arabia            1\n",
      "South Korea             1\n",
      "Taiwan                  1\n",
      "United Arab Emirates    1\n",
      "Vietnam                 1\n",
      "Name: count, dtype: int64\n"
     ]
    }
   ],
   "source": [
    "# counting countries\n",
    "pf_country_dev_count = pf_state_df[\"developer_parent_country\"].value_counts()\n",
    "\n",
    "print(\"The following shows countries with most developers supporting or financing petrochemical projects in Southeast Asia. Values show the number of developers whose parent companies are headquartered in these countries.\")\n",
    "print(pf_country_dev_count)"
   ]
  },
  {
   "cell_type": "markdown",
   "id": "9cf45a13-3588-42e3-bd15-6ae14f8dbe91",
   "metadata": {},
   "source": [
    "## Project financing, pt. 3: False solutions"
   ]
  },
  {
   "cell_type": "code",
   "execution_count": 15,
   "id": "40361705-86ad-40b4-8f57-0f74ddc0ff67",
   "metadata": {},
   "outputs": [],
   "source": [
    "# pf_projects_df.dtypes"
   ]
  },
  {
   "cell_type": "code",
   "execution_count": 16,
   "id": "21b0f759-cdbd-4dbd-940a-9d5c2a4e5ea2",
   "metadata": {},
   "outputs": [],
   "source": [
    "# automates analysis\n",
    "\n",
    "def keyword_summary(\n",
    "    keyword_search,\n",
    "    df,\n",
    "    project_name_col=\"project_name\", \n",
    "    project_id_col=\"project_id\", \n",
    "    project_desc_col=\"description\",\n",
    "    country_col=\"country\"\n",
    "    ):\n",
    "    \n",
    "    \"\"\"\n",
    "    This function searches the project description column for a keyword.\n",
    "    Use case: finding projects that involves hydrogen and ammonia production, and/or carbon capture utilization and storage\n",
    "    \n",
    "    Parameters:\n",
    "    keyword_search (str or list): word or phrase to search in the project description\n",
    "    df (pandas.DataFrame): DataFrame containing project information\n",
    "    project_name_col (str): column name for project name\n",
    "    project_id_col (str): column name for project ID\n",
    "    project_desc_col (str): column name for project description\n",
    "    country_col (str): column name for project country\n",
    "\n",
    "    Returns:\n",
    "    df[0] = search_df: DataFrame of projects with keywords filtered\n",
    "    df[1] = per_country_analysis: DataFrame of number of total projects, projects with keywords filtered by country\n",
    "    \"\"\"\n",
    "\n",
    "    # searches string keyword\n",
    "    keyword_pattern = '|'.join(keyword_search) # for multiple keywords\n",
    "    search_df = df[df[project_desc_col].str.contains(keyword_pattern, case=False, na=False)]\n",
    "\n",
    "    # count keyword matches and total projects per country\n",
    "    per_country_analysis = pd.DataFrame({\n",
    "        \"keyword_projects\": search_df.groupby(country_col)[project_id_col].count(),\n",
    "        \"total_projects\": df.groupby(country_col)[project_id_col].count()\n",
    "    }).reset_index()\n",
    "\n",
    "    # add percentage column\n",
    "    per_country_analysis[\"percentage\"] = (per_country_analysis[\"keyword_projects\"] / \n",
    "                                    per_country_analysis[\"total_projects\"] * 100).round(2)\n",
    "\n",
    "    # sort by number of keyword projects in descending order\n",
    "    per_country_analysis = per_country_analysis.sort_values(\"keyword_projects\", ascending=False)\n",
    "\n",
    "    print(f\"There are {len(search_df)} projects found with the keywords {keyword_search}.\")\n",
    "    print(\"Per country breakdown:\")\n",
    "    print(per_country_analysis)\n",
    "    return search_df, per_country_analysis\n"
   ]
  },
  {
   "cell_type": "code",
   "execution_count": 17,
   "id": "e22743cc-931c-4aa7-832c-269ae2318305",
   "metadata": {},
   "outputs": [
    {
     "name": "stdout",
     "output_type": "stream",
     "text": [
      "There are 40 projects found with the keywords ['ammonia', 'hydrogen', 'carbon capture'].\n",
      "Per country breakdown:\n",
      "  project_country  keyword_projects  total_projects  percentage\n",
      "1       Indonesia              16.0              28       57.14\n",
      "3        Malaysia               9.0              13       69.23\n",
      "6       Singapore               6.0              10       60.00\n",
      "5     Philippines               3.0               3      100.00\n",
      "7        Thailand               3.0               6       50.00\n",
      "0        Cambodia               1.0               2       50.00\n",
      "2            Laos               1.0               1      100.00\n",
      "8         Vietnam               1.0               4       25.00\n",
      "4         Myanmar               NaN               2         NaN\n"
     ]
    },
    {
     "data": {
      "text/html": [
       "<div>\n",
       "<style scoped>\n",
       "    .dataframe tbody tr th:only-of-type {\n",
       "        vertical-align: middle;\n",
       "    }\n",
       "\n",
       "    .dataframe tbody tr th {\n",
       "        vertical-align: top;\n",
       "    }\n",
       "\n",
       "    .dataframe thead th {\n",
       "        text-align: right;\n",
       "    }\n",
       "</style>\n",
       "<table border=\"1\" class=\"dataframe\">\n",
       "  <thead>\n",
       "    <tr style=\"text-align: right;\">\n",
       "      <th></th>\n",
       "      <th>project_country</th>\n",
       "      <th>keyword_projects</th>\n",
       "      <th>total_projects</th>\n",
       "      <th>percentage</th>\n",
       "    </tr>\n",
       "  </thead>\n",
       "  <tbody>\n",
       "    <tr>\n",
       "      <th>1</th>\n",
       "      <td>Indonesia</td>\n",
       "      <td>16.0</td>\n",
       "      <td>28</td>\n",
       "      <td>57.14</td>\n",
       "    </tr>\n",
       "    <tr>\n",
       "      <th>3</th>\n",
       "      <td>Malaysia</td>\n",
       "      <td>9.0</td>\n",
       "      <td>13</td>\n",
       "      <td>69.23</td>\n",
       "    </tr>\n",
       "    <tr>\n",
       "      <th>6</th>\n",
       "      <td>Singapore</td>\n",
       "      <td>6.0</td>\n",
       "      <td>10</td>\n",
       "      <td>60.00</td>\n",
       "    </tr>\n",
       "    <tr>\n",
       "      <th>5</th>\n",
       "      <td>Philippines</td>\n",
       "      <td>3.0</td>\n",
       "      <td>3</td>\n",
       "      <td>100.00</td>\n",
       "    </tr>\n",
       "    <tr>\n",
       "      <th>7</th>\n",
       "      <td>Thailand</td>\n",
       "      <td>3.0</td>\n",
       "      <td>6</td>\n",
       "      <td>50.00</td>\n",
       "    </tr>\n",
       "    <tr>\n",
       "      <th>0</th>\n",
       "      <td>Cambodia</td>\n",
       "      <td>1.0</td>\n",
       "      <td>2</td>\n",
       "      <td>50.00</td>\n",
       "    </tr>\n",
       "    <tr>\n",
       "      <th>2</th>\n",
       "      <td>Laos</td>\n",
       "      <td>1.0</td>\n",
       "      <td>1</td>\n",
       "      <td>100.00</td>\n",
       "    </tr>\n",
       "    <tr>\n",
       "      <th>8</th>\n",
       "      <td>Vietnam</td>\n",
       "      <td>1.0</td>\n",
       "      <td>4</td>\n",
       "      <td>25.00</td>\n",
       "    </tr>\n",
       "    <tr>\n",
       "      <th>4</th>\n",
       "      <td>Myanmar</td>\n",
       "      <td>NaN</td>\n",
       "      <td>2</td>\n",
       "      <td>NaN</td>\n",
       "    </tr>\n",
       "  </tbody>\n",
       "</table>\n",
       "</div>"
      ],
      "text/plain": [
       "  project_country  keyword_projects  total_projects  percentage\n",
       "1       Indonesia              16.0              28       57.14\n",
       "3        Malaysia               9.0              13       69.23\n",
       "6       Singapore               6.0              10       60.00\n",
       "5     Philippines               3.0               3      100.00\n",
       "7        Thailand               3.0               6       50.00\n",
       "0        Cambodia               1.0               2       50.00\n",
       "2            Laos               1.0               1      100.00\n",
       "8         Vietnam               1.0               4       25.00\n",
       "4         Myanmar               NaN               2         NaN"
      ]
     },
     "execution_count": 17,
     "metadata": {},
     "output_type": "execute_result"
    }
   ],
   "source": [
    "# search ammonia, hydrogen, or carbon capture\n",
    "\n",
    "false_sol_df = keyword_summary([\"ammonia\", \"hydrogen\", \"carbon capture\"], pf_projects_df,\n",
    "                       project_name_col=\"project_name\",\n",
    "                       project_id_col=\"sdc_deal_number_1\",\n",
    "                       project_desc_col=\"synopsis\",\n",
    "                       country_col=\"project_country\"\n",
    "                       )\n",
    "\n",
    "false_sol_df[1]"
   ]
  },
  {
   "cell_type": "code",
   "execution_count": 18,
   "id": "bf65aa6c-49d2-4e48-8886-13f6c0b18629",
   "metadata": {},
   "outputs": [],
   "source": [
    "# export to csv\n",
    "false_sol_df[1].to_csv(\"pf_data/pf_false_sol_country.csv\", encoding=\"UTF-8\", index=False)"
   ]
  },
  {
   "cell_type": "markdown",
   "id": "ee9bcfa8-3c5d-4005-8b33-7a815a0dc23e",
   "metadata": {},
   "source": [
    "### Projects that involve hydrotreated vegetable oil or HVO"
   ]
  },
  {
   "cell_type": "code",
   "execution_count": 19,
   "id": "ef4a8198-4ed1-4f61-bbca-703463170134",
   "metadata": {},
   "outputs": [
    {
     "data": {
      "text/plain": [
       "22     Pengerang Integrated Complex Biorefinery Project\n",
       "23    ChemOne Holdings Pengerang Hydrotreated Vegeta...\n",
       "41    550000 t/y Pulau Bukom Sustainable Aviation Fu...\n",
       "Name: project_name, dtype: object"
      ]
     },
     "execution_count": 19,
     "metadata": {},
     "output_type": "execute_result"
    }
   ],
   "source": [
    "# search hydrotreated vegetable oil or hvo\n",
    "\n",
    "hvo_df = pf_projects_df[pf_projects_df[\"synopsis\"].str.contains('hydrotreated|hvo', case=False, na=False)]\n",
    "hvo_df[\"project_name\"]"
   ]
  },
  {
   "cell_type": "markdown",
   "id": "8fae2823-3ee8-4baa-926e-38fb3b63932c",
   "metadata": {},
   "source": [
    "### Counting projects by developer and by country"
   ]
  },
  {
   "cell_type": "code",
   "execution_count": 20,
   "id": "cf430304-7e9d-4c58-94f2-9532d40854da",
   "metadata": {},
   "outputs": [],
   "source": [
    "# first, we merge dfs\n",
    "false_sol_dev_merged = false_sol_df[0].merge( ### false_sol_df[0] is the full list of filtered projects\n",
    "    pf_developers_df, on=\"sdc_deal_number_1\", how='left' \n",
    ")\n",
    "\n",
    "# then, simplify and drop columns not needed\n",
    "columns_to_keep = [\n",
    "    \"sdc_deal_number_1\", \"project_name_x\", \"project_country_x\", \"developer_parent\", \"developer_parent_country\"\n",
    "]\n",
    "false_sol_dev_selected = false_sol_dev_merged[columns_to_keep]"
   ]
  },
  {
   "cell_type": "code",
   "execution_count": 21,
   "id": "268b418a-c592-4c36-9406-c4f2ee9da597",
   "metadata": {},
   "outputs": [],
   "source": [
    "# export to csv\n",
    "false_sol_dev_selected.to_csv(\"pf_data/pf_false_sol_developer.csv\", encoding=\"UTF-8\", index=False)"
   ]
  },
  {
   "cell_type": "code",
   "execution_count": 22,
   "id": "4f13d681-59f9-48d5-9ba0-aa832a09eb3e",
   "metadata": {},
   "outputs": [],
   "source": [
    "# false_sol_dev_selected.dtypes"
   ]
  },
  {
   "cell_type": "code",
   "execution_count": 23,
   "id": "02fb6044-d796-496d-b083-3c0a121d1c3e",
   "metadata": {},
   "outputs": [
    {
     "name": "stdout",
     "output_type": "stream",
     "text": [
      "The following shows which parent companies of developers have the most 'false solutions' projects.\n"
     ]
    },
    {
     "data": {
      "text/plain": [
       "developer_parent\n",
       "State-owned [Pertamina]                    5\n",
       "State-owned [PLN]                          4\n",
       "State-owned [Pupuk]                        4\n",
       "State-owned [Temasek]                      3\n",
       "Acwa Power Co                              3\n",
       "Air Liquide SA                             3\n",
       "State-owned [SEDC]                         3\n",
       "Exxon Mobil Corp                           3\n",
       "State-owned [Korea National Oil Corp]      2\n",
       "Keppel Ltd                                 2\n",
       "State-owned [Petronas]                     2\n",
       "Hydrogene De France SA                     2\n",
       "Mitsubishi Corp                            2\n",
       "Shell PLC                                  2\n",
       "Chevron Corporation                        2\n",
       "Ayala Corporation                          2\n",
       "JERA Co Inc                                2\n",
       "State-owned [EDB]                          1\n",
       "State-owned [DOE]                          1\n",
       "State-owned [Abu Dhabi National Oil Co]    1\n",
       "Name: sdc_deal_number_1, dtype: int64"
      ]
     },
     "execution_count": 23,
     "metadata": {},
     "output_type": "execute_result"
    }
   ],
   "source": [
    "# counting unique projects per developer\n",
    "\n",
    "print(\"The following shows which parent companies of developers have the most 'false solutions' projects.\")\n",
    "false_sol_dev_selected.groupby(\"developer_parent\")[\"sdc_deal_number_1\"].nunique().sort_values(ascending=False).head(20)"
   ]
  },
  {
   "cell_type": "code",
   "execution_count": 24,
   "id": "4d88fffb-9f30-406d-a183-76976f675929",
   "metadata": {},
   "outputs": [
    {
     "name": "stdout",
     "output_type": "stream",
     "text": [
      "The following shows countries whose state-owned developers are supporting 'false solutions' projects.\n"
     ]
    },
    {
     "data": {
      "text/plain": [
       "developer_parent_country\n",
       "Indonesia               14\n",
       "Singapore                6\n",
       "Malaysia                 5\n",
       "Thailand                 3\n",
       "South Korea              2\n",
       "United Arab Emirates     1\n",
       "Philippines              1\n",
       "China                    1\n",
       "Name: count, dtype: int64"
      ]
     },
     "execution_count": 24,
     "metadata": {},
     "output_type": "execute_result"
    }
   ],
   "source": [
    "# counting state-owned projects per developer\n",
    "\n",
    "false_sol_state = false_sol_dev_selected[false_sol_dev_selected[\"developer_parent\"].str.contains(\"State-owned\", na=False)]\n",
    "\n",
    "print(\"The following shows countries whose state-owned developers are supporting 'false solutions' projects.\")\n",
    "false_sol_state[\"developer_parent_country\"].value_counts()"
   ]
  },
  {
   "cell_type": "code",
   "execution_count": 25,
   "id": "9431df4e-c8ad-4115-a8e4-29da723f5e8d",
   "metadata": {},
   "outputs": [],
   "source": [
    "# export to csv\n",
    "false_sol_state.to_csv(\"pf_data/pf_false_sol_state-owned.csv\", encoding=\"UTF-8\", index=False)"
   ]
  },
  {
   "cell_type": "code",
   "execution_count": 26,
   "id": "47b073d8-9e60-49c4-9d63-e51a25e93e04",
   "metadata": {},
   "outputs": [
    {
     "name": "stdout",
     "output_type": "stream",
     "text": [
      "The following shows a) countries whose developers are supporting or financing projects we tagged as 'false solutions', and b) the number of projects.\n",
      "developer_parent_country\n",
      "Indonesia               14\n",
      "Malaysia                10\n",
      "Japan                    9\n",
      "Singapore                7\n",
      "United States            6\n",
      "France                   6\n",
      "Philippines              3\n",
      "United Kingdom           3\n",
      "Thailand                 3\n",
      "Saudi Arabia             3\n",
      "China                    2\n",
      "South Korea              2\n",
      "Sweden                   1\n",
      "United Arab Emirates     1\n",
      "Australia                1\n",
      "Spain                    1\n",
      "Australia | China        1\n",
      "Netherlands              1\n",
      "Italy                    1\n",
      "Denmark                  1\n",
      "Name: sdc_deal_number_1, dtype: int64\n"
     ]
    }
   ],
   "source": [
    "# counting unique projects per country\n",
    "false_sol_country = false_sol_dev_selected.groupby(\"developer_parent_country\")[\"sdc_deal_number_1\"].nunique().sort_values(ascending=False)\n",
    "\n",
    "print(\"The following shows a) countries whose developers are supporting or financing projects we tagged as 'false solutions', and b) the number of projects.\")\n",
    "print(false_sol_country.nlargest(20))"
   ]
  },
  {
   "cell_type": "code",
   "execution_count": null,
   "id": "57642896-62ee-4fde-83f9-0b3be269287c",
   "metadata": {},
   "outputs": [],
   "source": []
  }
 ],
 "metadata": {
  "kernelspec": {
   "display_name": "Python 3 (ipykernel)",
   "language": "python",
   "name": "python3"
  },
  "language_info": {
   "codemirror_mode": {
    "name": "ipython",
    "version": 3
   },
   "file_extension": ".py",
   "mimetype": "text/x-python",
   "name": "python",
   "nbconvert_exporter": "python",
   "pygments_lexer": "ipython3",
   "version": "3.11.8"
  }
 },
 "nbformat": 4,
 "nbformat_minor": 5
}
