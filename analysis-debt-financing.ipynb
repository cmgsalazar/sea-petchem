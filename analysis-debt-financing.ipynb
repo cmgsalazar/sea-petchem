{
 "cells": [
  {
   "cell_type": "markdown",
   "id": "f2cfd766-347e-4b03-9302-7b271e42ce70",
   "metadata": {},
   "source": [
    "# SEA Petrochemical Industry\n",
    "\n",
    "Here, we analyze debt financing in the petrochemical industry in Southeast Asia, based on data pulled from LSEG Refinitiv."
   ]
  },
  {
   "cell_type": "code",
   "execution_count": 1,
   "id": "9dea7215-4b07-4458-bbf9-611cd211fdf9",
   "metadata": {},
   "outputs": [],
   "source": [
    "# import libraries\n",
    "import pandas as pd\n",
    "import os"
   ]
  },
  {
   "cell_type": "code",
   "execution_count": 2,
   "id": "6c112610-eb30-4950-8b4e-24643a6c58e1",
   "metadata": {},
   "outputs": [],
   "source": [
    "# read files\n",
    "\n",
    "# loans\n",
    "loans_df = pd.read_excel(\"wf_data.xlsx\", sheet_name=\"loans_list\")\n",
    "loans_fin_df = pd.read_excel(\"wf_data.xlsx\", sheet_name=\"loans_banks\")\n",
    "\n",
    "# bonds\n",
    "bonds_df = pd.read_excel(\"wf_data.xlsx\", sheet_name=\"bonds_list\")\n",
    "bonds_fin_df = pd.read_excel(\"wf_data.xlsx\", sheet_name=\"bonds_banks\")\n",
    "\n",
    "# equities\n",
    "equities_df = pd.read_excel(\"wf_data.xlsx\", sheet_name=\"eq_list\")\n",
    "equities_fin_df = pd.read_excel(\"wf_data.xlsx\", sheet_name=\"eq_banks\")"
   ]
  },
  {
   "cell_type": "code",
   "execution_count": 3,
   "id": "291ba6a1-253d-4e02-83da-d18bec21304f",
   "metadata": {},
   "outputs": [],
   "source": [
    "# setting up directories for saved files\n",
    "\n",
    "os.makedirs(\"bonds_data\", exist_ok=True)\n",
    "os.makedirs(\"equities_data\", exist_ok=True)\n",
    "os.makedirs(\"loans_data\", exist_ok=True)"
   ]
  },
  {
   "cell_type": "markdown",
   "id": "b9b72a03-12bd-4fb2-8416-7f04c4937092",
   "metadata": {},
   "source": [
    "### Getting totals"
   ]
  },
  {
   "cell_type": "code",
   "execution_count": 4,
   "id": "0d6700f1-5ffb-4063-baec-8a04adf6f7ca",
   "metadata": {},
   "outputs": [
    {
     "data": {
      "text/plain": [
       "np.float64(5657.6385236)"
      ]
     },
     "execution_count": 4,
     "metadata": {},
     "output_type": "execute_result"
    }
   ],
   "source": [
    "loans_total = loans_df[\"total_amount\"].sum()\n",
    "loans_total"
   ]
  },
  {
   "cell_type": "code",
   "execution_count": 5,
   "id": "5199ab8d-51b2-4d37-996d-c91aeb1356b2",
   "metadata": {},
   "outputs": [
    {
     "data": {
      "text/plain": [
       "np.float64(7060.021436535796)"
      ]
     },
     "execution_count": 5,
     "metadata": {},
     "output_type": "execute_result"
    }
   ],
   "source": [
    "bonds_total = bonds_df[\"proceeds_amt\"].sum()\n",
    "bonds_total"
   ]
  },
  {
   "cell_type": "code",
   "execution_count": 6,
   "id": "c28fa992-9450-49f2-ace8-5c5cce408eb5",
   "metadata": {},
   "outputs": [
    {
     "data": {
      "text/plain": [
       "np.float64(2261.73959870141)"
      ]
     },
     "execution_count": 6,
     "metadata": {},
     "output_type": "execute_result"
    }
   ],
   "source": [
    "equities_total = equities_df[\"proceeds_amt\"].sum()\n",
    "equities_total"
   ]
  },
  {
   "cell_type": "code",
   "execution_count": 7,
   "id": "a7ccff37-5e54-4ae6-8e31-9e8eae2a503a",
   "metadata": {},
   "outputs": [
    {
     "data": {
      "text/plain": [
       "np.float64(14979.399558837205)"
      ]
     },
     "execution_count": 7,
     "metadata": {},
     "output_type": "execute_result"
    }
   ],
   "source": [
    "debtfin_totals = loans_total + bonds_total + equities_total\n",
    "debtfin_totals"
   ]
  },
  {
   "cell_type": "markdown",
   "id": "e1598f25-1522-4605-9cc3-818e616a61d2",
   "metadata": {},
   "source": [
    "## Total transactions"
   ]
  },
  {
   "cell_type": "code",
   "execution_count": 8,
   "id": "64e07fe5-c29d-4dbf-bf01-34a1a61188ed",
   "metadata": {},
   "outputs": [],
   "source": [
    "# automates breakdown of projects\n",
    "\n",
    "def proj_summary(\n",
    "    df,\n",
    "    deal_id_col=\"deal_id\", \n",
    "    borrower_col=\"borrower_name\", \n",
    "    country_col=\"borrower_country\",\n",
    "    total_cost_col=\"total_cost\", \n",
    "    ):\n",
    "    \"\"\"\n",
    "    This function sums the total amounts per borrower per country.\n",
    "    \n",
    "    Parameters:\n",
    "    df (pandas.DataFrame): DataFrame containing project information\n",
    "    deal_col (str): column name for deal ID\n",
    "    borrower_col (str): column name for name of borrower\n",
    "    country_col (str): column name for country of borrower\n",
    "    total_cost_col (str): column name for total cost\n",
    "    \"\"\"\n",
    "\n",
    "    # counts unique project identifiers\n",
    "    # to get the total number of projects\n",
    "    total_transactions = df[deal_id_col].nunique()\n",
    "    print(f\"Total number of transactions: {total_transactions}\")\n",
    "    \n",
    "    # counts projects and sums costs by country\n",
    "    per_country_analysis = df.groupby([country_col, borrower_col]).agg(\n",
    "        borrower = (borrower_col, \"count\"),  # count projects\n",
    "        total_amount = (total_cost_col, \"sum\")  # sum of total cost\n",
    "    ).sort_values(by=\"total_amount\", ascending=False)\n",
    "\n",
    "    print(f\"Total amount: {per_country_analysis['total_amount'].sum():.2f}\")\n",
    "\n",
    "    return per_country_analysis"
   ]
  },
  {
   "cell_type": "markdown",
   "id": "c44c6f05-e5dc-4bdb-805c-31c6e1f0954a",
   "metadata": {},
   "source": [
    "### Bonds"
   ]
  },
  {
   "cell_type": "code",
   "execution_count": 9,
   "id": "3f407ff4-752c-466e-a230-7b13193c3373",
   "metadata": {},
   "outputs": [
    {
     "name": "stdout",
     "output_type": "stream",
     "text": [
      "Total number of transactions: 37\n",
      "Total amount: 7060.02\n"
     ]
    },
    {
     "data": {
      "text/html": [
       "<div>\n",
       "<style scoped>\n",
       "    .dataframe tbody tr th:only-of-type {\n",
       "        vertical-align: middle;\n",
       "    }\n",
       "\n",
       "    .dataframe tbody tr th {\n",
       "        vertical-align: top;\n",
       "    }\n",
       "\n",
       "    .dataframe thead th {\n",
       "        text-align: right;\n",
       "    }\n",
       "</style>\n",
       "<table border=\"1\" class=\"dataframe\">\n",
       "  <thead>\n",
       "    <tr style=\"text-align: right;\">\n",
       "      <th></th>\n",
       "      <th></th>\n",
       "      <th>borrower</th>\n",
       "      <th>total_amount</th>\n",
       "    </tr>\n",
       "    <tr>\n",
       "      <th>issuer_borrower_parent_country</th>\n",
       "      <th>issuer_borrower_parent</th>\n",
       "      <th></th>\n",
       "      <th></th>\n",
       "    </tr>\n",
       "  </thead>\n",
       "  <tbody>\n",
       "    <tr>\n",
       "      <th rowspan=\"3\" valign=\"top\">Thailand</th>\n",
       "      <th>PTT Global Chemical PCL</th>\n",
       "      <td>8</td>\n",
       "      <td>3361.063283</td>\n",
       "    </tr>\n",
       "    <tr>\n",
       "      <th>TPI Polene PCL</th>\n",
       "      <td>14</td>\n",
       "      <td>2518.531570</td>\n",
       "    </tr>\n",
       "    <tr>\n",
       "      <th>Energy Absolute PCL</th>\n",
       "      <td>6</td>\n",
       "      <td>744.081785</td>\n",
       "    </tr>\n",
       "    <tr>\n",
       "      <th>Indonesia</th>\n",
       "      <th>Barito Pacific TBK PT</th>\n",
       "      <td>8</td>\n",
       "      <td>400.774488</td>\n",
       "    </tr>\n",
       "    <tr>\n",
       "      <th>Malaysia</th>\n",
       "      <th>Hanwha Group</th>\n",
       "      <td>1</td>\n",
       "      <td>35.570311</td>\n",
       "    </tr>\n",
       "  </tbody>\n",
       "</table>\n",
       "</div>"
      ],
      "text/plain": [
       "                                                        borrower  total_amount\n",
       "issuer_borrower_parent_country issuer_borrower_parent                         \n",
       "Thailand                       PTT Global Chemical PCL         8   3361.063283\n",
       "                               TPI Polene PCL                 14   2518.531570\n",
       "                               Energy Absolute PCL             6    744.081785\n",
       "Indonesia                      Barito Pacific TBK PT           8    400.774488\n",
       "Malaysia                       Hanwha Group                    1     35.570311"
      ]
     },
     "execution_count": 9,
     "metadata": {},
     "output_type": "execute_result"
    }
   ],
   "source": [
    "bonds_result_df = proj_summary(bonds_df,\n",
    "                               deal_id_col=\"bonds_deal_identifier\", \n",
    "                               borrower_col=\"issuer_borrower_parent\", \n",
    "                               country_col=\"issuer_borrower_parent_country\",\n",
    "                               total_cost_col=\"proceeds_amt\"\n",
    "                              )\n",
    "bonds_result_df"
   ]
  },
  {
   "cell_type": "code",
   "execution_count": 10,
   "id": "3e9d3be2-7ca8-45c2-866b-c5403d58c07c",
   "metadata": {},
   "outputs": [],
   "source": [
    "bonds_result_df.to_csv(\"bonds_data/bonds_count.csv\", encoding=\"UTF-8\")"
   ]
  },
  {
   "cell_type": "code",
   "execution_count": 11,
   "id": "fad3b329-6bea-4972-9c24-b4ea8564ad1b",
   "metadata": {},
   "outputs": [
    {
     "data": {
      "text/plain": [
       "np.float64(7060.021436535794)"
      ]
     },
     "execution_count": 11,
     "metadata": {},
     "output_type": "execute_result"
    }
   ],
   "source": [
    "bonds_result_df[\"total_amount\"].sum()"
   ]
  },
  {
   "cell_type": "code",
   "execution_count": 12,
   "id": "eeeb1f9c-357f-44d1-a1c2-0574845f0e03",
   "metadata": {},
   "outputs": [
    {
     "data": {
      "text/plain": [
       "security_type\n",
       "Senior Medium Term Notes    11\n",
       "Senior Bonds                 9\n",
       "Senior Unsecured Notes       9\n",
       "Fixed Or Straight Bond       3\n",
       "Debentures                   3\n",
       "Medium Term Notes            1\n",
       "Bonds                        1\n",
       "Name: count, dtype: int64"
      ]
     },
     "execution_count": 12,
     "metadata": {},
     "output_type": "execute_result"
    }
   ],
   "source": [
    "# security types\n",
    "bonds_df[\"security_type\"].value_counts()"
   ]
  },
  {
   "cell_type": "markdown",
   "id": "af2bf59c-f403-4d8b-9772-2df3218949d0",
   "metadata": {},
   "source": [
    "### Equities"
   ]
  },
  {
   "cell_type": "code",
   "execution_count": 13,
   "id": "52b4add7-f891-48a1-9eb6-e2532793ed5a",
   "metadata": {},
   "outputs": [
    {
     "name": "stdout",
     "output_type": "stream",
     "text": [
      "Total number of transactions: 17\n",
      "Total amount: 2261.74\n"
     ]
    },
    {
     "data": {
      "text/html": [
       "<div>\n",
       "<style scoped>\n",
       "    .dataframe tbody tr th:only-of-type {\n",
       "        vertical-align: middle;\n",
       "    }\n",
       "\n",
       "    .dataframe tbody tr th {\n",
       "        vertical-align: top;\n",
       "    }\n",
       "\n",
       "    .dataframe thead th {\n",
       "        text-align: right;\n",
       "    }\n",
       "</style>\n",
       "<table border=\"1\" class=\"dataframe\">\n",
       "  <thead>\n",
       "    <tr style=\"text-align: right;\">\n",
       "      <th></th>\n",
       "      <th></th>\n",
       "      <th>borrower</th>\n",
       "      <th>total_amount</th>\n",
       "    </tr>\n",
       "    <tr>\n",
       "      <th>issuer_borrower_parent_country</th>\n",
       "      <th>issuer_borrower_parent</th>\n",
       "      <th></th>\n",
       "      <th></th>\n",
       "    </tr>\n",
       "  </thead>\n",
       "  <tbody>\n",
       "    <tr>\n",
       "      <th>Thailand</th>\n",
       "      <th>Energy Absolute PCL</th>\n",
       "      <td>1</td>\n",
       "      <td>1016.283114</td>\n",
       "    </tr>\n",
       "    <tr>\n",
       "      <th>Indonesia</th>\n",
       "      <th>Barito Pacific TBK PT</th>\n",
       "      <td>2</td>\n",
       "      <td>834.426633</td>\n",
       "    </tr>\n",
       "    <tr>\n",
       "      <th>Philippines</th>\n",
       "      <th>JG Summit Holdings Inc</th>\n",
       "      <td>1</td>\n",
       "      <td>250.950545</td>\n",
       "    </tr>\n",
       "    <tr>\n",
       "      <th>Malaysia</th>\n",
       "      <th>Petroliam Nasional Bhd</th>\n",
       "      <td>1</td>\n",
       "      <td>66.119151</td>\n",
       "    </tr>\n",
       "    <tr>\n",
       "      <th rowspan=\"2\" valign=\"top\">Vietnam</th>\n",
       "      <th>PetroVietnam Chemical &amp; Services Corp</th>\n",
       "      <td>2</td>\n",
       "      <td>34.323144</td>\n",
       "    </tr>\n",
       "    <tr>\n",
       "      <th>Son Ha International Corp</th>\n",
       "      <td>3</td>\n",
       "      <td>32.199866</td>\n",
       "    </tr>\n",
       "    <tr>\n",
       "      <th rowspan=\"2\" valign=\"top\">Malaysia</th>\n",
       "      <th>Daya Materials Bhd</th>\n",
       "      <td>4</td>\n",
       "      <td>23.463539</td>\n",
       "    </tr>\n",
       "    <tr>\n",
       "      <th>Propel Global Bhd</th>\n",
       "      <td>2</td>\n",
       "      <td>3.973606</td>\n",
       "    </tr>\n",
       "    <tr>\n",
       "      <th>Thailand</th>\n",
       "      <th>Siam Cement Group</th>\n",
       "      <td>1</td>\n",
       "      <td>0.000000</td>\n",
       "    </tr>\n",
       "  </tbody>\n",
       "</table>\n",
       "</div>"
      ],
      "text/plain": [
       "                                                                      borrower  \\\n",
       "issuer_borrower_parent_country issuer_borrower_parent                            \n",
       "Thailand                       Energy Absolute PCL                           1   \n",
       "Indonesia                      Barito Pacific TBK PT                         2   \n",
       "Philippines                    JG Summit Holdings Inc                        1   \n",
       "Malaysia                       Petroliam Nasional Bhd                        1   \n",
       "Vietnam                        PetroVietnam Chemical & Services Corp         2   \n",
       "                               Son Ha International Corp                     3   \n",
       "Malaysia                       Daya Materials Bhd                            4   \n",
       "                               Propel Global Bhd                             2   \n",
       "Thailand                       Siam Cement Group                             1   \n",
       "\n",
       "                                                                      total_amount  \n",
       "issuer_borrower_parent_country issuer_borrower_parent                               \n",
       "Thailand                       Energy Absolute PCL                     1016.283114  \n",
       "Indonesia                      Barito Pacific TBK PT                    834.426633  \n",
       "Philippines                    JG Summit Holdings Inc                   250.950545  \n",
       "Malaysia                       Petroliam Nasional Bhd                    66.119151  \n",
       "Vietnam                        PetroVietnam Chemical & Services Corp     34.323144  \n",
       "                               Son Ha International Corp                 32.199866  \n",
       "Malaysia                       Daya Materials Bhd                        23.463539  \n",
       "                               Propel Global Bhd                          3.973606  \n",
       "Thailand                       Siam Cement Group                          0.000000  "
      ]
     },
     "execution_count": 13,
     "metadata": {},
     "output_type": "execute_result"
    }
   ],
   "source": [
    "equities_result_df = proj_summary(equities_df,\n",
    "                               deal_id_col=\"equities_deal_identifier\", \n",
    "                               borrower_col=\"issuer_borrower_parent\", \n",
    "                               country_col=\"issuer_borrower_parent_country\",\n",
    "                               total_cost_col=\"proceeds_amt\"\n",
    "                              )\n",
    "equities_result_df"
   ]
  },
  {
   "cell_type": "code",
   "execution_count": 14,
   "id": "d670f417-179a-481f-a4e9-68dd8d49819a",
   "metadata": {},
   "outputs": [],
   "source": [
    "equities_result_df.to_csv(\"equities_data/equities_count.csv\", encoding=\"UTF-8\")"
   ]
  },
  {
   "cell_type": "markdown",
   "id": "8c86af5f-8912-439c-a749-279aa10c8ef5",
   "metadata": {},
   "source": [
    "### Loans"
   ]
  },
  {
   "cell_type": "code",
   "execution_count": 15,
   "id": "3dab215b-0226-40bd-a720-860baba5e94f",
   "metadata": {},
   "outputs": [
    {
     "name": "stdout",
     "output_type": "stream",
     "text": [
      "Total number of transactions: 12\n",
      "Total amount: 5657.64\n"
     ]
    },
    {
     "data": {
      "text/html": [
       "<div>\n",
       "<style scoped>\n",
       "    .dataframe tbody tr th:only-of-type {\n",
       "        vertical-align: middle;\n",
       "    }\n",
       "\n",
       "    .dataframe tbody tr th {\n",
       "        vertical-align: top;\n",
       "    }\n",
       "\n",
       "    .dataframe thead th {\n",
       "        text-align: right;\n",
       "    }\n",
       "</style>\n",
       "<table border=\"1\" class=\"dataframe\">\n",
       "  <thead>\n",
       "    <tr style=\"text-align: right;\">\n",
       "      <th></th>\n",
       "      <th></th>\n",
       "      <th>borrower</th>\n",
       "      <th>total_amount</th>\n",
       "    </tr>\n",
       "    <tr>\n",
       "      <th>issuer_borrower_parent_country</th>\n",
       "      <th>issuer_borrower_parent</th>\n",
       "      <th></th>\n",
       "      <th></th>\n",
       "    </tr>\n",
       "  </thead>\n",
       "  <tbody>\n",
       "    <tr>\n",
       "      <th>Brunei</th>\n",
       "      <th>Hengyi Industries Sdn Bhd</th>\n",
       "      <td>6</td>\n",
       "      <td>3820.720000</td>\n",
       "    </tr>\n",
       "    <tr>\n",
       "      <th>Malaysia | Saudi Arabia</th>\n",
       "      <th>Petroliam Nasional Berhad (PETRONAS) | Saudi Aramco</th>\n",
       "      <td>4</td>\n",
       "      <td>960.977631</td>\n",
       "    </tr>\n",
       "    <tr>\n",
       "      <th>Indonesia</th>\n",
       "      <th>Surya Esa Perkasa Tbk PT</th>\n",
       "      <td>1</td>\n",
       "      <td>495.000000</td>\n",
       "    </tr>\n",
       "    <tr>\n",
       "      <th>Thailand</th>\n",
       "      <th>PTT PCL</th>\n",
       "      <td>2</td>\n",
       "      <td>380.940893</td>\n",
       "    </tr>\n",
       "  </tbody>\n",
       "</table>\n",
       "</div>"
      ],
      "text/plain": [
       "                                                                                   borrower  \\\n",
       "issuer_borrower_parent_country issuer_borrower_parent                                         \n",
       "Brunei                         Hengyi Industries Sdn Bhd                                  6   \n",
       "Malaysia | Saudi Arabia        Petroliam Nasional Berhad (PETRONAS) | Saudi Ar...         4   \n",
       "Indonesia                      Surya Esa Perkasa Tbk PT                                   1   \n",
       "Thailand                       PTT PCL                                                    2   \n",
       "\n",
       "                                                                                   total_amount  \n",
       "issuer_borrower_parent_country issuer_borrower_parent                                            \n",
       "Brunei                         Hengyi Industries Sdn Bhd                            3820.720000  \n",
       "Malaysia | Saudi Arabia        Petroliam Nasional Berhad (PETRONAS) | Saudi Ar...    960.977631  \n",
       "Indonesia                      Surya Esa Perkasa Tbk PT                              495.000000  \n",
       "Thailand                       PTT PCL                                               380.940893  "
      ]
     },
     "execution_count": 15,
     "metadata": {},
     "output_type": "execute_result"
    }
   ],
   "source": [
    "loans_result_df = proj_summary(loans_df,\n",
    "                               deal_id_col=\"loans_deal_identifier\", \n",
    "                               borrower_col=\"issuer_borrower_parent\", \n",
    "                               country_col=\"issuer_borrower_parent_country\",\n",
    "                               total_cost_col=\"total_amount\"\n",
    "                              )\n",
    "loans_result_df"
   ]
  },
  {
   "cell_type": "code",
   "execution_count": 16,
   "id": "ec5edce7-ea86-46d4-aef6-50310d16dc28",
   "metadata": {},
   "outputs": [],
   "source": [
    "loans_result_df.to_csv(\"loans_data/loans_count.csv\", encoding=\"UTF-8\")"
   ]
  },
  {
   "cell_type": "markdown",
   "id": "08fede46-4a80-4a3d-bff9-a728e996c4db",
   "metadata": {},
   "source": [
    "### Underwritings"
   ]
  },
  {
   "cell_type": "code",
   "execution_count": 17,
   "id": "559761c3-72a6-431c-92a9-411538d4f8d6",
   "metadata": {},
   "outputs": [],
   "source": [
    "def count_banks(\n",
    "    df,\n",
    "    deal_id_col=\"deal_id\", \n",
    "    borrower_col=\"borrower_name\", \n",
    "    bank_col=\"bank_name\",\n",
    "    country_col=\"bank_country\",\n",
    "    ):\n",
    "    \"\"\"\n",
    "    This function sums the total amounts per borrower per country.\n",
    "    \n",
    "    Parameters:\n",
    "    df (pandas.DataFrame): DataFrame containing project information\n",
    "    deal_id_col (str): column name for deal ID\n",
    "    borrower_col (str): column name for name of borrower\n",
    "    bank_col (str): column name for name of bank\n",
    "    country_col (str): column name for country of bank\n",
    "    \"\"\"\n",
    "\n",
    "    # counts unique project identifiers\n",
    "    # to get the total number of projects\n",
    "    total_transactions = df[deal_id_col].nunique()\n",
    "    print(f\"Total number of transactions: {total_transactions}\")\n",
    "    # this should be the same as total transactions in `proj_summary`\n",
    "    \n",
    "    # counts projects and sums costs by country\n",
    "    per_country_analysis = df.groupby([country_col, bank_col]).agg(\n",
    "        number_of_underwritings = (bank_col, \"count\"),  # count deals\n",
    "    ).sort_values(by=[country_col, \"number_of_underwritings\"], ascending=False)\n",
    "\n",
    "    print(f\"Total issuances: {per_country_analysis['number_of_underwritings'].sum()}\")\n",
    "\n",
    "    return per_country_analysis"
   ]
  },
  {
   "cell_type": "markdown",
   "id": "18bcb5fb-d74b-4bdd-bf26-c32cbea6df31",
   "metadata": {},
   "source": [
    "### Bonds"
   ]
  },
  {
   "cell_type": "code",
   "execution_count": 18,
   "id": "3740e92d-52d4-4ea3-a120-588d5b0c2798",
   "metadata": {},
   "outputs": [
    {
     "name": "stdout",
     "output_type": "stream",
     "text": [
      "Total number of transactions: 37\n",
      "Total issuances: 182\n"
     ]
    },
    {
     "data": {
      "text/html": [
       "<div>\n",
       "<style scoped>\n",
       "    .dataframe tbody tr th:only-of-type {\n",
       "        vertical-align: middle;\n",
       "    }\n",
       "\n",
       "    .dataframe tbody tr th {\n",
       "        vertical-align: top;\n",
       "    }\n",
       "\n",
       "    .dataframe thead th {\n",
       "        text-align: right;\n",
       "    }\n",
       "</style>\n",
       "<table border=\"1\" class=\"dataframe\">\n",
       "  <thead>\n",
       "    <tr style=\"text-align: right;\">\n",
       "      <th></th>\n",
       "      <th></th>\n",
       "      <th>number_of_underwritings</th>\n",
       "    </tr>\n",
       "    <tr>\n",
       "      <th>book_comanagers_parent_country</th>\n",
       "      <th>book_comanagers_parent</th>\n",
       "      <th></th>\n",
       "    </tr>\n",
       "  </thead>\n",
       "  <tbody>\n",
       "    <tr>\n",
       "      <th>United Kingdom</th>\n",
       "      <th>Standard Chartered</th>\n",
       "      <td>3</td>\n",
       "    </tr>\n",
       "    <tr>\n",
       "      <th rowspan=\"17\" valign=\"top\">Thailand</th>\n",
       "      <th>Krung Thai Bank</th>\n",
       "      <td>22</td>\n",
       "    </tr>\n",
       "    <tr>\n",
       "      <th>Kasikornbank</th>\n",
       "      <td>13</td>\n",
       "    </tr>\n",
       "    <tr>\n",
       "      <th>Siam Commercial Bank</th>\n",
       "      <td>10</td>\n",
       "    </tr>\n",
       "    <tr>\n",
       "      <th>Asia Plus Group Holdings</th>\n",
       "      <td>8</td>\n",
       "    </tr>\n",
       "    <tr>\n",
       "      <th>Bangkok Bank</th>\n",
       "      <td>7</td>\n",
       "    </tr>\n",
       "    <tr>\n",
       "      <th>Country Group Holdings</th>\n",
       "      <td>7</td>\n",
       "    </tr>\n",
       "    <tr>\n",
       "      <th>Aira Capital Ltd</th>\n",
       "      <td>6</td>\n",
       "    </tr>\n",
       "    <tr>\n",
       "      <th>FNS Holdings</th>\n",
       "      <td>4</td>\n",
       "    </tr>\n",
       "    <tr>\n",
       "      <th>Kiatnakin Phatra Financial Group</th>\n",
       "      <td>4</td>\n",
       "    </tr>\n",
       "    <tr>\n",
       "      <th>Merchant Partners Securities</th>\n",
       "      <td>3</td>\n",
       "    </tr>\n",
       "    <tr>\n",
       "      <th>Thanachart Capital PCL</th>\n",
       "      <td>3</td>\n",
       "    </tr>\n",
       "    <tr>\n",
       "      <th>Globlex Holding Management</th>\n",
       "      <td>2</td>\n",
       "    </tr>\n",
       "    <tr>\n",
       "      <th>ASL Securities Co Ltd</th>\n",
       "      <td>1</td>\n",
       "    </tr>\n",
       "    <tr>\n",
       "      <th>Asia Wealth Securities Co Ltd</th>\n",
       "      <td>1</td>\n",
       "    </tr>\n",
       "    <tr>\n",
       "      <th>Beyond Securities PCL</th>\n",
       "      <td>1</td>\n",
       "    </tr>\n",
       "    <tr>\n",
       "      <th>Government Savings Bank of Thailand</th>\n",
       "      <td>1</td>\n",
       "    </tr>\n",
       "    <tr>\n",
       "      <th>IV Global Securities PCL</th>\n",
       "      <td>1</td>\n",
       "    </tr>\n",
       "    <tr>\n",
       "      <th rowspan=\"2\" valign=\"top\">Taiwan</th>\n",
       "      <th>Yuanta Financial Holdings</th>\n",
       "      <td>8</td>\n",
       "    </tr>\n",
       "    <tr>\n",
       "      <th>China Development Financial Holding Corporation</th>\n",
       "      <td>5</td>\n",
       "    </tr>\n",
       "    <tr>\n",
       "      <th rowspan=\"2\" valign=\"top\">South Korea</th>\n",
       "      <th>DAOL Investment &amp; Securities</th>\n",
       "      <td>3</td>\n",
       "    </tr>\n",
       "    <tr>\n",
       "      <th>KB Financial Group</th>\n",
       "      <td>1</td>\n",
       "    </tr>\n",
       "    <tr>\n",
       "      <th rowspan=\"2\" valign=\"top\">Singapore</th>\n",
       "      <th>United Overseas Bank (UOB) Group</th>\n",
       "      <td>5</td>\n",
       "    </tr>\n",
       "    <tr>\n",
       "      <th>Phillip Securities</th>\n",
       "      <td>2</td>\n",
       "    </tr>\n",
       "    <tr>\n",
       "      <th rowspan=\"3\" valign=\"top\">Malaysia</th>\n",
       "      <th>CIMB Group</th>\n",
       "      <td>18</td>\n",
       "    </tr>\n",
       "    <tr>\n",
       "      <th>Maybank Investment Banking Group</th>\n",
       "      <td>8</td>\n",
       "    </tr>\n",
       "    <tr>\n",
       "      <th>RHB Banking Group</th>\n",
       "      <td>2</td>\n",
       "    </tr>\n",
       "    <tr>\n",
       "      <th rowspan=\"2\" valign=\"top\">Japan</th>\n",
       "      <th>Mitsubishi UFJ Financial Group Inc</th>\n",
       "      <td>11</td>\n",
       "    </tr>\n",
       "    <tr>\n",
       "      <th>Nomura Holdings</th>\n",
       "      <td>1</td>\n",
       "    </tr>\n",
       "    <tr>\n",
       "      <th rowspan=\"5\" valign=\"top\">Indonesia</th>\n",
       "      <th>Bank Negara Indonesia</th>\n",
       "      <td>5</td>\n",
       "    </tr>\n",
       "    <tr>\n",
       "      <th>Dwimuria Investama Andalan PT</th>\n",
       "      <td>5</td>\n",
       "    </tr>\n",
       "    <tr>\n",
       "      <th>PT Sucorinvest Inti Investama</th>\n",
       "      <td>3</td>\n",
       "    </tr>\n",
       "    <tr>\n",
       "      <th>Trimegah Sekuritas Indonesia</th>\n",
       "      <td>2</td>\n",
       "    </tr>\n",
       "    <tr>\n",
       "      <th>Trimegah Securindo Lestari PT</th>\n",
       "      <td>1</td>\n",
       "    </tr>\n",
       "    <tr>\n",
       "      <th>China</th>\n",
       "      <th>Capital Securities Co Ltd</th>\n",
       "      <td>5</td>\n",
       "    </tr>\n",
       "  </tbody>\n",
       "</table>\n",
       "</div>"
      ],
      "text/plain": [
       "                                                                                number_of_underwritings\n",
       "book_comanagers_parent_country book_comanagers_parent                                                  \n",
       "United Kingdom                 Standard Chartered                                                     3\n",
       "Thailand                       Krung Thai Bank                                                       22\n",
       "                               Kasikornbank                                                          13\n",
       "                               Siam Commercial Bank                                                  10\n",
       "                               Asia Plus Group Holdings                                               8\n",
       "                               Bangkok Bank                                                           7\n",
       "                               Country Group Holdings                                                 7\n",
       "                               Aira Capital Ltd                                                       6\n",
       "                               FNS Holdings                                                           4\n",
       "                               Kiatnakin Phatra Financial Group                                       4\n",
       "                               Merchant Partners Securities                                           3\n",
       "                               Thanachart Capital PCL                                                 3\n",
       "                               Globlex Holding Management                                             2\n",
       "                               ASL Securities Co Ltd                                                  1\n",
       "                               Asia Wealth Securities Co Ltd                                          1\n",
       "                               Beyond Securities PCL                                                  1\n",
       "                               Government Savings Bank of Thailand                                    1\n",
       "                               IV Global Securities PCL                                               1\n",
       "Taiwan                         Yuanta Financial Holdings                                              8\n",
       "                               China Development Financial Holding Corporation                        5\n",
       "South Korea                    DAOL Investment & Securities                                           3\n",
       "                               KB Financial Group                                                     1\n",
       "Singapore                      United Overseas Bank (UOB) Group                                       5\n",
       "                               Phillip Securities                                                     2\n",
       "Malaysia                       CIMB Group                                                            18\n",
       "                               Maybank Investment Banking Group                                       8\n",
       "                               RHB Banking Group                                                      2\n",
       "Japan                          Mitsubishi UFJ Financial Group Inc                                    11\n",
       "                               Nomura Holdings                                                        1\n",
       "Indonesia                      Bank Negara Indonesia                                                  5\n",
       "                               Dwimuria Investama Andalan PT                                          5\n",
       "                               PT Sucorinvest Inti Investama                                          3\n",
       "                               Trimegah Sekuritas Indonesia                                           2\n",
       "                               Trimegah Securindo Lestari PT                                          1\n",
       "China                          Capital Securities Co Ltd                                              5"
      ]
     },
     "execution_count": 18,
     "metadata": {},
     "output_type": "execute_result"
    }
   ],
   "source": [
    "bonds_banks_df = count_banks(\n",
    "    bonds_fin_df,\n",
    "    deal_id_col=\"bonds_deal_identifier\", \n",
    "    borrower_col=\"issuer_borrower\", \n",
    "    bank_col=\"book_comanagers_parent\",\n",
    "    country_col=\"book_comanagers_parent_country\",\n",
    "    )\n",
    "bonds_banks_df"
   ]
  },
  {
   "cell_type": "code",
   "execution_count": 19,
   "id": "5bdabe2c-0371-4888-aea8-322bf1e15642",
   "metadata": {},
   "outputs": [],
   "source": [
    "bonds_banks_df.to_csv(\"bonds_data/bonds_banks.csv\", encoding=\"UTF-8\")"
   ]
  },
  {
   "cell_type": "markdown",
   "id": "c0cf82b8-be0e-4680-b5b5-a7ad97b7e3f4",
   "metadata": {},
   "source": [
    "### Equities"
   ]
  },
  {
   "cell_type": "code",
   "execution_count": 20,
   "id": "8e91d6f2-cd2c-4a7f-bbd9-1e371ce21c4a",
   "metadata": {},
   "outputs": [
    {
     "name": "stdout",
     "output_type": "stream",
     "text": [
      "Total number of transactions: 17\n",
      "Total issuances: 11\n"
     ]
    },
    {
     "data": {
      "text/html": [
       "<div>\n",
       "<style scoped>\n",
       "    .dataframe tbody tr th:only-of-type {\n",
       "        vertical-align: middle;\n",
       "    }\n",
       "\n",
       "    .dataframe tbody tr th {\n",
       "        vertical-align: top;\n",
       "    }\n",
       "\n",
       "    .dataframe thead th {\n",
       "        text-align: right;\n",
       "    }\n",
       "</style>\n",
       "<table border=\"1\" class=\"dataframe\">\n",
       "  <thead>\n",
       "    <tr style=\"text-align: right;\">\n",
       "      <th></th>\n",
       "      <th></th>\n",
       "      <th>number_of_underwritings</th>\n",
       "    </tr>\n",
       "    <tr>\n",
       "      <th>book_comanagers_parent_country</th>\n",
       "      <th>book_comanagers_parent</th>\n",
       "      <th></th>\n",
       "    </tr>\n",
       "  </thead>\n",
       "  <tbody>\n",
       "    <tr>\n",
       "      <th>Switzerland</th>\n",
       "      <th>UBS Group AG</th>\n",
       "      <td>1</td>\n",
       "    </tr>\n",
       "    <tr>\n",
       "      <th>Singapore</th>\n",
       "      <th>United Overseas Bank (UOB) Group</th>\n",
       "      <td>2</td>\n",
       "    </tr>\n",
       "    <tr>\n",
       "      <th rowspan=\"2\" valign=\"top\">Malaysia</th>\n",
       "      <th>Hong Leong Group</th>\n",
       "      <td>4</td>\n",
       "    </tr>\n",
       "    <tr>\n",
       "      <th>Maybank Group</th>\n",
       "      <td>1</td>\n",
       "    </tr>\n",
       "    <tr>\n",
       "      <th>Japan</th>\n",
       "      <th>Nomura Group</th>\n",
       "      <td>1</td>\n",
       "    </tr>\n",
       "    <tr>\n",
       "      <th>Hong Kong</th>\n",
       "      <th>CLSA Ltd</th>\n",
       "      <td>1</td>\n",
       "    </tr>\n",
       "    <tr>\n",
       "      <th>France</th>\n",
       "      <th>BNP Paribas</th>\n",
       "      <td>1</td>\n",
       "    </tr>\n",
       "  </tbody>\n",
       "</table>\n",
       "</div>"
      ],
      "text/plain": [
       "                                                                 number_of_underwritings\n",
       "book_comanagers_parent_country book_comanagers_parent                                   \n",
       "Switzerland                    UBS Group AG                                            1\n",
       "Singapore                      United Overseas Bank (UOB) Group                        2\n",
       "Malaysia                       Hong Leong Group                                        4\n",
       "                               Maybank Group                                           1\n",
       "Japan                          Nomura Group                                            1\n",
       "Hong Kong                      CLSA Ltd                                                1\n",
       "France                         BNP Paribas                                             1"
      ]
     },
     "execution_count": 20,
     "metadata": {},
     "output_type": "execute_result"
    }
   ],
   "source": [
    "equities_banks_df = count_banks(\n",
    "    equities_fin_df,\n",
    "    deal_id_col=\"equities_deal_identifier\", \n",
    "    borrower_col=\"issuer_borrower\", \n",
    "    bank_col=\"book_comanagers_parent\",\n",
    "    country_col=\"book_comanagers_parent_country\",\n",
    "    )\n",
    "equities_banks_df"
   ]
  },
  {
   "cell_type": "code",
   "execution_count": 21,
   "id": "4664a9b8-854e-434d-ade3-691873b0021c",
   "metadata": {},
   "outputs": [],
   "source": [
    "equities_banks_df.to_csv(\"equities_data/equities_banks.csv\", encoding=\"UTF-8\")"
   ]
  },
  {
   "cell_type": "markdown",
   "id": "29890d43-f270-4b86-851f-f98ed8b18ef2",
   "metadata": {},
   "source": [
    "### Loans"
   ]
  },
  {
   "cell_type": "code",
   "execution_count": 22,
   "id": "36111159-44a3-49b5-af0a-500ce0cc4ed8",
   "metadata": {},
   "outputs": [
    {
     "name": "stdout",
     "output_type": "stream",
     "text": [
      "Total number of transactions: 12\n",
      "Total issuances: 23\n"
     ]
    },
    {
     "data": {
      "text/html": [
       "<div>\n",
       "<style scoped>\n",
       "    .dataframe tbody tr th:only-of-type {\n",
       "        vertical-align: middle;\n",
       "    }\n",
       "\n",
       "    .dataframe tbody tr th {\n",
       "        vertical-align: top;\n",
       "    }\n",
       "\n",
       "    .dataframe thead th {\n",
       "        text-align: right;\n",
       "    }\n",
       "</style>\n",
       "<table border=\"1\" class=\"dataframe\">\n",
       "  <thead>\n",
       "    <tr style=\"text-align: right;\">\n",
       "      <th></th>\n",
       "      <th></th>\n",
       "      <th>number_of_underwritings</th>\n",
       "    </tr>\n",
       "    <tr>\n",
       "      <th>mandated_arranger_parent_country</th>\n",
       "      <th>mandated_arranger</th>\n",
       "      <th></th>\n",
       "    </tr>\n",
       "  </thead>\n",
       "  <tbody>\n",
       "    <tr>\n",
       "      <th rowspan=\"3\" valign=\"top\">Japan</th>\n",
       "      <th>Bank of Ayudhya Plc</th>\n",
       "      <td>1</td>\n",
       "    </tr>\n",
       "    <tr>\n",
       "      <th>Mizuho Bank Ltd</th>\n",
       "      <td>1</td>\n",
       "    </tr>\n",
       "    <tr>\n",
       "      <th>Sumitomo Mitsui Banking Corp</th>\n",
       "      <td>1</td>\n",
       "    </tr>\n",
       "    <tr>\n",
       "      <th>Indonesia</th>\n",
       "      <th>Undisclosed Advisor</th>\n",
       "      <td>1</td>\n",
       "    </tr>\n",
       "    <tr>\n",
       "      <th rowspan=\"5\" valign=\"top\">China</th>\n",
       "      <th>Bank of China (BOC)</th>\n",
       "      <td>5</td>\n",
       "    </tr>\n",
       "    <tr>\n",
       "      <th>Industrial and Commercial Bank of China (ICBC)</th>\n",
       "      <td>5</td>\n",
       "    </tr>\n",
       "    <tr>\n",
       "      <th>China Development Bank</th>\n",
       "      <td>3</td>\n",
       "    </tr>\n",
       "    <tr>\n",
       "      <th>Export-Import Bank of China</th>\n",
       "      <td>2</td>\n",
       "    </tr>\n",
       "    <tr>\n",
       "      <th>China Merchants Bank Co., Ltd.</th>\n",
       "      <td>1</td>\n",
       "    </tr>\n",
       "    <tr>\n",
       "      <th rowspan=\"3\" valign=\"top\">Brunei</th>\n",
       "      <th>Baiduri Bank Group</th>\n",
       "      <td>1</td>\n",
       "    </tr>\n",
       "    <tr>\n",
       "      <th>Islamic Bank of Brunei</th>\n",
       "      <td>1</td>\n",
       "    </tr>\n",
       "    <tr>\n",
       "      <th>Perbadanan TAIB</th>\n",
       "      <td>1</td>\n",
       "    </tr>\n",
       "  </tbody>\n",
       "</table>\n",
       "</div>"
      ],
      "text/plain": [
       "                                                                                 number_of_underwritings\n",
       "mandated_arranger_parent_country mandated_arranger                                                      \n",
       "Japan                            Bank of Ayudhya Plc                                                   1\n",
       "                                 Mizuho Bank Ltd                                                       1\n",
       "                                 Sumitomo Mitsui Banking Corp                                          1\n",
       "Indonesia                        Undisclosed Advisor                                                   1\n",
       "China                            Bank of China (BOC)                                                   5\n",
       "                                 Industrial and Commercial Bank of China (ICBC)                        5\n",
       "                                 China Development Bank                                                3\n",
       "                                 Export-Import Bank of China                                           2\n",
       "                                 China Merchants Bank Co., Ltd.                                        1\n",
       "Brunei                           Baiduri Bank Group                                                    1\n",
       "                                 Islamic Bank of Brunei                                                1\n",
       "                                 Perbadanan TAIB                                                       1"
      ]
     },
     "execution_count": 22,
     "metadata": {},
     "output_type": "execute_result"
    }
   ],
   "source": [
    "loans_banks_df = count_banks(loans_fin_df,\n",
    "                               deal_id_col=\"loan_deal_identifier\", \n",
    "                               borrower_col=\"issuer_borrower\", \n",
    "                               bank_col=\"mandated_arranger\",\n",
    "                               country_col=\"mandated_arranger_parent_country\",\n",
    "                              )\n",
    "loans_banks_df"
   ]
  },
  {
   "cell_type": "code",
   "execution_count": 23,
   "id": "49590076-7265-4251-8485-1a8019c36efd",
   "metadata": {},
   "outputs": [
    {
     "data": {
      "text/plain": [
       "12"
      ]
     },
     "execution_count": 23,
     "metadata": {},
     "output_type": "execute_result"
    }
   ],
   "source": [
    "loans_fin_df[\"mandated_arranger\"].nunique()"
   ]
  },
  {
   "cell_type": "code",
   "execution_count": 24,
   "id": "369ef12b-b315-4cfc-9ce1-d6822fe96e1e",
   "metadata": {},
   "outputs": [],
   "source": [
    "loans_banks_df.to_csv(\"loans_data/loans_banks.csv\", encoding=\"UTF-8\")"
   ]
  }
 ],
 "metadata": {
  "kernelspec": {
   "display_name": "Python 3 (ipykernel)",
   "language": "python",
   "name": "python3"
  },
  "language_info": {
   "codemirror_mode": {
    "name": "ipython",
    "version": 3
   },
   "file_extension": ".py",
   "mimetype": "text/x-python",
   "name": "python",
   "nbconvert_exporter": "python",
   "pygments_lexer": "ipython3",
   "version": "3.11.8"
  }
 },
 "nbformat": 4,
 "nbformat_minor": 5
}
